{
 "cells": [
  {
   "cell_type": "code",
   "execution_count": null,
   "metadata": {
    "colab": {
     "base_uri": "https://localhost:8080/"
    },
    "id": "RihS0vPA7TQF",
    "outputId": "8def40ad-a567-467c-fdaf-53d99ea0c800"
   },
   "outputs": [],
   "source": [
    "#!pip install transformers\n",
    "#!pip install torch          # For PyTorch\n",
    "#!pip install tensorflow     # For TensorFlow\n",
    "#!pip install numpy\n",
    "#!pip install pandas\n"
   ]
  },
  {
   "cell_type": "code",
   "execution_count": 3,
   "metadata": {
    "id": "lpp1kgyk7Wtg"
   },
   "outputs": [],
   "source": [
    "import transformers\n",
    "import torch\n",
    "import tensorflow as tf\n",
    "import numpy as np\n",
    "import pandas as pd"
   ]
  },
  {
   "cell_type": "code",
   "execution_count": null,
   "metadata": {
    "colab": {
     "base_uri": "https://localhost:8080/",
     "referenced_widgets": [
      "0865e0741b2b4f15a843f11c6d1decbf",
      "100952049b1d4d808711fcdc51d9e7af",
      "9de87767ec814a999b8bd431582adbc5",
      "66814f1814e14ed58f7e0cf02c1ccc01",
      "0f68cef089af404e8e19ad15f5657214",
      "2890823525b247909170845da1eaa012",
      "eaac2cbb56ed404da13d59af235e181b"
     ]
    },
    "id": "wy9SQPw581tp",
    "outputId": "e0d85b4f-85a5-4033-8d48-4cbc3e1cc0d2"
   },
   "outputs": [],
   "source": [
    "from transformers import RobertaModel, RobertaTokenizer\n",
    "\n",
    "tokenizer = RobertaTokenizer.from_pretrained('pdelobelle/robbert-v2-dutch-base')\n",
    "model = RobertaModel.from_pretrained('pdelobelle/robbert-v2-dutch-base')\n"
   ]
  },
  {
   "cell_type": "code",
   "execution_count": 12,
   "metadata": {
    "id": "rUPZAtU087l4"
   },
   "outputs": [],
   "source": [
    "import pandas as pd\n",
    "\n",
    "simlex = pd.read_csv('SimLex-999-Dutch-final.txt', sep='\\t')\n"
   ]
  },
  {
   "cell_type": "markdown",
   "metadata": {},
   "source": [
    "### Code for getting layer-wise similarity, all layers, including subtokenized words:"
   ]
  },
  {
   "cell_type": "code",
   "execution_count": 13,
   "metadata": {
    "colab": {
     "base_uri": "https://localhost:8080/"
    },
    "id": "MtUu4v_VnAYS",
    "outputId": "8177aba9-fdb3-4d7c-b8e5-1b973753eee1"
   },
   "outputs": [
    {
     "name": "stdout",
     "output_type": "stream",
     "text": [
      "Layer 0 - Spearman correlation: 0.207\n",
      "Layer 1 - Spearman correlation: 0.179\n",
      "Layer 2 - Spearman correlation: 0.124\n",
      "Layer 3 - Spearman correlation: 0.130\n",
      "Layer 4 - Spearman correlation: 0.164\n",
      "Layer 5 - Spearman correlation: 0.187\n",
      "Layer 6 - Spearman correlation: 0.168\n",
      "Layer 7 - Spearman correlation: 0.162\n",
      "Layer 8 - Spearman correlation: 0.160\n",
      "Layer 9 - Spearman correlation: 0.167\n",
      "Layer 10 - Spearman correlation: 0.127\n",
      "Layer 11 - Spearman correlation: 0.082\n",
      "Layer 12 - Spearman correlation: 0.084\n"
     ]
    }
   ],
   "source": [
    "from transformers import BertModel, BertTokenizer\n",
    "import torch\n",
    "from scipy.spatial.distance import cosine\n",
    "from scipy.stats import spearmanr\n",
    "\n",
    "def get_word_embedding(word, layer_nums):\n",
    "    # Tokenize the word into subtokens and add special tokens [CLS] and [SEP]\n",
    "    subtokens = [tokenizer.cls_token] + tokenizer.tokenize(word) + [tokenizer.sep_token]\n",
    "    # Convert subtokens to input IDs\n",
    "    input_ids = tokenizer.convert_tokens_to_ids(subtokens)\n",
    "    # Wrap it in a tensor and add an extra batch dimension\n",
    "    input_ids = torch.tensor(input_ids).unsqueeze(0)\n",
    "    # Make sure the model does not compute gradients\n",
    "    with torch.no_grad():\n",
    "        # Get the model outputs\n",
    "        outputs = model(input_ids, output_hidden_states=True)\n",
    "    # Check if layer_nums is a list or a single integer\n",
    "    if isinstance(layer_nums, int):\n",
    "        layer_nums = [layer_nums]\n",
    "    # Use the hidden state from the specified layers as word embedding\n",
    "    embeddings = [outputs.hidden_states[i] for i in layer_nums]\n",
    "    # Average the embeddings from the specified layers\n",
    "    averaged_embedding = torch.mean(torch.stack(embeddings), dim=0)\n",
    "    # Ignore the first and the last token ([CLS] and [SEP])\n",
    "    averaged_embedding = averaged_embedding[0, 1:-1]\n",
    "    # Get the mean of the subtoken vectors to get the word vector\n",
    "    word_embedding = torch.mean(averaged_embedding, dim=0)\n",
    "    # Convert tensor to a numpy array\n",
    "    word_embedding = word_embedding.numpy()\n",
    "    return word_embedding\n",
    "\n",
    "\n",
    "def calculate_similarity(word1, word2, layer_nums):\n",
    "    word1_embedding = get_word_embedding(word1, layer_nums)\n",
    "    word2_embedding = get_word_embedding(word2, layer_nums)\n",
    "    similarity = 1 - cosine(word1_embedding, word2_embedding)\n",
    "    return similarity\n",
    "\n",
    "# Specify the layers you want to combine\n",
    "layer_nums = [1, 12]\n",
    "\n",
    "spearman_results = []  # A list to store the Spearman correlations\n",
    "\n",
    "# Calculate the Spearman correlation for each layer and each frequency group\n",
    "for layer_num in range(13):  # For RobBERT base models, there are 13 layers including the output layer\n",
    "    similarity_scores = []  # Initialize similarity_scores in each iteration\n",
    "\n",
    "    for _, row in simlex.iterrows():\n",
    "        word1 = row['word1']\n",
    "        word2 = row['word2']\n",
    "        similarity = calculate_similarity(word1, word2, layer_num)\n",
    "        similarity_scores.append(similarity)\n",
    "\n",
    "    simlex[f'predicted_similarity_layer_{layer_num}'] = similarity_scores\n",
    "    correlation, _ = spearmanr(simlex['SimLex999'], simlex[f'predicted_similarity_layer_{layer_num}'])\n",
    "    spearman_results.append(correlation)\n",
    "    print(f'Layer {layer_num} - Spearman correlation: {correlation:.3f}')\n"
   ]
  },
  {
   "cell_type": "markdown",
   "metadata": {},
   "source": [
    "#### Visualize in blue colour scheme"
   ]
  },
  {
   "cell_type": "code",
   "execution_count": 15,
   "metadata": {},
   "outputs": [
    {
     "data": {
      "image/png": "[encoded data removed]",
      "text/plain": [
       "<Figure size 720x432 with 1 Axes>"
      ]
     },
     "metadata": {},
     "output_type": "display_data"
    }
   ],
   "source": [
    "import torch\n",
    "from scipy.spatial.distance import cosine\n",
    "from scipy.stats import spearmanr\n",
    "import matplotlib.pyplot as plt\n",
    "import seaborn as sns\n",
    "\n",
    "# Plotting\n",
    "sns.set(style=\"whitegrid\")\n",
    "fig, ax = plt.subplots(figsize=(10, 6))\n",
    "ax = sns.barplot(x=list(range(13)), y=spearman_results, palette=\"Blues_d\", ax=ax, edgecolor='black')\n",
    "ax.set_title('Spearman Correlation Across Transformer Layers', fontsize=14, fontweight='bold')\n",
    "ax.set_xlabel('Transformer Layers', fontsize=12, fontweight='bold')\n",
    "ax.set_ylabel('Spearman Correlation', fontsize=12, fontweight='bold')\n",
    "ax.grid(True)\n",
    "sns.despine()\n",
    "plt.show()"
   ]
  },
  {
   "cell_type": "code",
   "execution_count": 16,
   "metadata": {
    "colab": {
     "base_uri": "https://localhost:8080/",
     "height": 463
    },
    "id": "aw92pMjhn9Gv",
    "outputId": "1aeaead8-d8b6-4b63-d9ba-db6deee3dab8"
   },
   "outputs": [
    {
     "data": {
      "image/png": "[encoded data removed]",
      "text/plain": [
       "<Figure size 432x288 with 1 Axes>"
      ]
     },
     "metadata": {},
     "output_type": "display_data"
    }
   ],
   "source": [
    "import matplotlib.pyplot as plt\n",
    "import seaborn as sns\n",
    "\n",
    "correlations = []\n",
    "\n",
    "# Collect the correlations for each layer\n",
    "for layer_num in range(13):  # For RobBERT base models, there are 13 layers including the output layer\n",
    "    correlation, _ = spearmanr(simlex['SimLex999'], simlex[f'predicted_similarity_layer_{layer_num}'])\n",
    "    correlations.append(correlation)\n",
    "\n",
    "# Create a figure and axis\n",
    "fig, ax = plt.subplots()\n",
    "\n",
    "# Set colors for the layers\n",
    "colors = sns.color_palette(\"viridis\", len(correlations))\n",
    "\n",
    "# Bar plot for the layers\n",
    "ax.bar(range(len(correlations)), correlations, color=colors)\n",
    "\n",
    "# Set the title and labels\n",
    "ax.set_title('Correlation of SimLex similarities with cosine similarity of different layers')\n",
    "ax.set_xlabel('Layers')\n",
    "ax.set_ylabel('Spearman Correlation')\n",
    "\n",
    "# Set the xticks to be the layer numbers\n",
    "ax.set_xticks(range(len(correlations)))\n",
    "ax.set_xticklabels(range(len(correlations)))\n",
    "\n",
    "# Show the plot\n",
    "plt.show()\n"
   ]
  },
  {
   "cell_type": "markdown",
   "metadata": {},
   "source": [
    "#### Code to get predicted similarity (including subtokenized words) for a specific combination of layers:"
   ]
  },
  {
   "cell_type": "code",
   "execution_count": 17,
   "metadata": {
    "id": "p6lgBT3YVUe_",
    "outputId": "f8148d07-80e8-402d-b10d-0420a5b7aaf1"
   },
   "outputs": [
    {
     "name": "stdout",
     "output_type": "stream",
     "text": [
      "Layers [0, 5] - Spearman correlation: 0.247\n"
     ]
    }
   ],
   "source": [
    "def calculate_similarity(word1, word2, layer_nums):\n",
    "    word1_embedding = get_word_embedding(word1, layer_nums)\n",
    "    word2_embedding = get_word_embedding(word2, layer_nums)\n",
    "    similarity = 1 - cosine(word1_embedding, word2_embedding)\n",
    "    return similarity\n",
    "\n",
    "# Specify the layers you want to combine\n",
    "layer_nums = [0, 5]\n",
    "\n",
    "similarity_scores = []\n",
    "for _, row in simlex.iterrows():\n",
    "    word1 = row['word1']\n",
    "    word2 = row['word2']\n",
    "    similarity = calculate_similarity(word1, word2, layer_nums)\n",
    "    similarity_scores.append(similarity)\n",
    "\n",
    "simlex['predicted_similarity'] = similarity_scores\n",
    "\n",
    "# Assuming 'SimLex999' column contains the true similarity scores\n",
    "correlation, _ = spearmanr(simlex['SimLex999'], simlex['predicted_similarity'])\n",
    "print(f'Layers {layer_nums} - Spearman correlation: {correlation:.3f}')\n"
   ]
  },
  {
   "cell_type": "markdown",
   "metadata": {},
   "source": [
    "#### Error analysis, for the layer combination specified in previous cell:"
   ]
  },
  {
   "cell_type": "code",
   "execution_count": 19,
   "metadata": {
    "id": "Ae_Ky9jVIEvm"
   },
   "outputs": [],
   "source": [
    "from sklearn.preprocessing import MinMaxScaler\n",
    "\n",
    "# Create a scaler object that will scale values to range from 0 to 10\n",
    "scaler = MinMaxScaler(feature_range=(0, 10))\n",
    "\n",
    "# Fit the scaler on the predicted similarity scores and transform them\n",
    "simlex['predicted_similarity_scaled'] = scaler.fit_transform(simlex[['predicted_similarity']])\n"
   ]
  },
  {
   "cell_type": "code",
   "execution_count": 21,
   "metadata": {
    "colab": {
     "base_uri": "https://localhost:8080/"
    },
    "id": "XFNxZuDsGt-d",
    "outputId": "fe1832cd-9be7-4f1c-ceec-ef2c96729b46"
   },
   "outputs": [
    {
     "name": "stdout",
     "output_type": "stream",
     "text": [
      "              word1         word2  SimLex999  predicted_similarity  \\\n",
      "795     aanmoedigen   ontmoedigen       1.71              0.890504   \n",
      "22             vlug          snel       8.95              0.313093   \n",
      "211     afwezigheid  aanwezigheid       2.54              0.878202   \n",
      "855  desorganiseren   organiseren       2.68              0.872748   \n",
      "477        aandacht     interesse       8.13              0.347057   \n",
      "1              slim   intelligent       8.19              0.356813   \n",
      "694          meisje  dienstmeisje       1.93              0.785701   \n",
      "62         cruciaal    belangrijk       8.59              0.397066   \n",
      "182       werkgever     werknemer       2.86              0.842186   \n",
      "33             raar        vreemd       8.40              0.387726   \n",
      "\n",
      "     predicted_similarity_scaled  abs_diff  \n",
      "795                    10.000000  8.290000  \n",
      "22                      0.868301  8.081699  \n",
      "211                     9.805460  7.265460  \n",
      "855                     9.719194  7.039194  \n",
      "477                     1.405431  6.724569  \n",
      "1                       1.559730  6.630270  \n",
      "694                     8.342560  6.412560  \n",
      "62                      2.196324  6.393676  \n",
      "182                     9.235864  6.375864  \n",
      "33                      2.048614  6.351386  \n",
      "            word1           word2  SimLex999  predicted_similarity  \\\n",
      "749           bad           vrouw       1.61              0.357975   \n",
      "341          hout          papier       3.55              0.480833   \n",
      "383           arm            ader       2.05              0.389412   \n",
      "80          klein           enorm       1.82              0.371881   \n",
      "303        heldin            held       8.55              0.797435   \n",
      "713    rekenkunde           ritme       2.42              0.410043   \n",
      "718         keuze         neiging       1.98              0.382689   \n",
      "938    verdwijnen         krimpen       4.04              0.513174   \n",
      "224          auto         snelweg       3.12              0.455184   \n",
      "899  argumenteren  rechtvaardigen       4.65              0.551941   \n",
      "\n",
      "     predicted_similarity_scaled  abs_diff  \n",
      "749                     1.578103  0.031897  \n",
      "341                     3.521094  0.028906  \n",
      "383                     2.075278  0.025278  \n",
      "80                      1.798018  0.021982  \n",
      "303                     8.528130  0.021870  \n",
      "713                     2.401557  0.018443  \n",
      "718                     1.968944  0.011056  \n",
      "938                     4.032566  0.007434  \n",
      "224                     3.115452  0.004548  \n",
      "899                     4.645664  0.004336  \n"
     ]
    }
   ],
   "source": [
    "# Compute absolute differences between predicted and actual scores\n",
    "simlex['abs_diff'] = abs(simlex['SimLex999'] - simlex['predicted_similarity_scaled'])\n",
    "\n",
    "# Sort by absolute differences\n",
    "simlex_sorted = simlex.sort_values('abs_diff', ascending=False)\n",
    "\n",
    "# Print out the word pairs with the largest differences\n",
    "print(simlex_sorted[['word1', 'word2', 'SimLex999', 'predicted_similarity', 'predicted_similarity_scaled', 'abs_diff']].head(10))\n",
    "\n",
    "\n",
    "# Print out the word pairs with the smallest differences\n",
    "print(simlex_sorted[['word1', 'word2', 'SimLex999', 'predicted_similarity', 'predicted_similarity_scaled', 'abs_diff']].tail(10))\n"
   ]
  },
  {
   "cell_type": "markdown",
   "metadata": {},
   "source": [
    "#### POS-based analysis below:"
   ]
  },
  {
   "cell_type": "code",
   "execution_count": 22,
   "metadata": {
    "colab": {
     "base_uri": "https://localhost:8080/"
    },
    "id": "Bm6ciD63R2Ct",
    "outputId": "e2e9404a-03b1-41f3-9b15-dc7e1717e1c2"
   },
   "outputs": [
    {
     "name": "stdout",
     "output_type": "stream",
     "text": [
      "POS\n",
      "A    2.308352\n",
      "N    1.613524\n",
      "V    1.719224\n",
      "Name: abs_diff, dtype: float64\n"
     ]
    }
   ],
   "source": [
    "# Group by POS and compute mean difference for each group\n",
    "grouped = simlex.groupby('POS')['abs_diff'].mean()\n",
    "\n",
    "# Print out the mean difference for each POS\n",
    "print(grouped)"
   ]
  },
  {
   "cell_type": "code",
   "execution_count": 23,
   "metadata": {
    "colab": {
     "base_uri": "https://localhost:8080/"
    },
    "id": "m9Se0EI_Sau6",
    "outputId": "2d9f6b11-36ef-486e-9749-89fb7b0210af"
   },
   "outputs": [
    {
     "name": "stdout",
     "output_type": "stream",
     "text": [
      "Adjective pairs with largest differences:\n",
      "           word1        word2  SimLex999  predicted_similarity\n",
      "22          vlug         snel       8.95              0.313093\n",
      "1           slim  intelligent       8.19              0.356813\n",
      "62      cruciaal   belangrijk       8.59              0.397066\n",
      "33          raar       vreemd       8.40              0.387726\n",
      "87       angstig         bang       9.06              0.443877\n",
      "13        slecht    vreselijk       7.53              0.347556\n",
      "25   eigenaardig       vreemd       8.56              0.424983\n",
      "23           dom        dwaas       6.57              0.311331\n",
      "109        groot        enorm       7.53              0.374099\n",
      "95       beladen        zwaar       7.33              0.378772\n",
      "\n",
      "Noun pairs with largest differences:\n",
      "              word1         word2  SimLex999  predicted_similarity\n",
      "211     afwezigheid  aanwezigheid       2.54              0.878202\n",
      "477        aandacht     interesse       8.13              0.347057\n",
      "694          meisje  dienstmeisje       1.93              0.785701\n",
      "182       werkgever     werknemer       2.86              0.842186\n",
      "370            arts        dokter       9.28              0.464330\n",
      "294          gevoel      intuïtie       8.02              0.397480\n",
      "115            zuid         noord       2.93              0.802431\n",
      "584  zelfvertrouwen          zelf       2.10              0.744376\n",
      "288             bed          wieg       6.70              0.339021\n",
      "118           paard        merrie       7.07              0.363570\n",
      "\n",
      "Verb pairs with largest differences:\n",
      "              word1              word2  SimLex999  predicted_similarity\n",
      "795     aanmoedigen        ontmoedigen       1.71              0.890504\n",
      "855  desorganiseren        organiseren       2.68              0.872748\n",
      "788         creëren              maken       8.76              0.442101\n",
      "870     lokaliseren             vinden       7.37              0.385340\n",
      "840       deelnemen            meedoen       8.90              0.507136\n",
      "822      vertrekken               gaan       8.03              0.457598\n",
      "905      uitbreiden            groeien       7.18              0.405868\n",
      "990    binnentreden  verschuldigd zijn       1.07              0.609056\n",
      "902        bereiken             slagen       6.70              0.402645\n",
      "912       verklaren          uitleggen       7.88              0.484626\n"
     ]
    }
   ],
   "source": [
    "# Select the adjective pairs with the largest differences\n",
    "adjectives = simlex[simlex['POS'] == 'A']\n",
    "adjectives_sorted = adjectives.sort_values('abs_diff', ascending=False)\n",
    "print('Adjective pairs with largest differences:')\n",
    "print(adjectives_sorted[['word1', 'word2', 'SimLex999', 'predicted_similarity']].head(10))\n",
    "\n",
    "# Select the noun pairs with the largest differences\n",
    "nouns = simlex[simlex['POS'] == 'N']\n",
    "nouns_sorted = nouns.sort_values('abs_diff', ascending=False)\n",
    "print('\\nNoun pairs with largest differences:')\n",
    "print(nouns_sorted[['word1', 'word2', 'SimLex999', 'predicted_similarity']].head(10))\n",
    "\n",
    "# Select the verb pairs with the largest differences\n",
    "verbs = simlex[simlex['POS'] == 'V']\n",
    "verbs_sorted = verbs.sort_values('abs_diff', ascending=False)\n",
    "print('\\nVerb pairs with largest differences:')\n",
    "print(verbs_sorted[['word1', 'word2', 'SimLex999', 'predicted_similarity']].head(10))\n"
   ]
  },
  {
   "cell_type": "code",
   "execution_count": 24,
   "metadata": {
    "colab": {
     "base_uri": "https://localhost:8080/"
    },
    "id": "W48PfwLnwUFl",
    "outputId": "dbd0ef7c-3a51-4bce-dbed-a6fa6617f526"
   },
   "outputs": [
    {
     "name": "stdout",
     "output_type": "stream",
     "text": [
      "Spearman correlation for A: 0.07650254043191729\n",
      "Spearman correlation for N: 0.3191087147581901\n",
      "Spearman correlation for V: 0.1363910693609344\n"
     ]
    }
   ],
   "source": [
    "pos_categories = [\"A\", \"N\", \"V\"]\n",
    "for pos in pos_categories:\n",
    "    pos_data = simlex[simlex['POS'] == pos]\n",
    "    spearman_corr = pos_data['SimLex999'].corr(pos_data['predicted_similarity'], method='spearman')\n",
    "    print(f\"Spearman correlation for {pos}: {spearman_corr}\")\n"
   ]
  },
  {
   "cell_type": "code",
   "execution_count": 25,
   "metadata": {
    "colab": {
     "base_uri": "https://localhost:8080/"
    },
    "id": "hhEkgD8XwYCi",
    "outputId": "8782773b-e60f-4599-dad4-9d0f876dbaba"
   },
   "outputs": [
    {
     "name": "stdout",
     "output_type": "stream",
     "text": [
      "           word1        word2  SimLex999 POS  predicted_similarity_layer_0  \\\n",
      "370         arts       dokter       9.28   N                      0.306086   \n",
      "22          vlug         snel       8.95   A                      0.199788   \n",
      "87       angstig         bang       9.06   A                      0.336690   \n",
      "28     eenvoudig  gemakkelijk       9.04   A                      0.359508   \n",
      "840    deelnemen      meedoen       8.90   V                      0.391600   \n",
      "788      creëren        maken       8.76   V                      0.220548   \n",
      "155     boosheid        woede       8.87   N                      0.407575   \n",
      "62      cruciaal   belangrijk       8.59   A                      0.281145   \n",
      "25   eigenaardig       vreemd       8.56   A                      0.371328   \n",
      "236      bedrijf  onderneming       8.72   N                      0.579576   \n",
      "\n",
      "     predicted_similarity_layer_1  predicted_similarity_layer_2  \\\n",
      "370                      0.479193                      0.514335   \n",
      "22                       0.262644                      0.342858   \n",
      "87                       0.464711                      0.487702   \n",
      "28                       0.477557                      0.496950   \n",
      "840                      0.447410                      0.518176   \n",
      "788                      0.322088                      0.364462   \n",
      "155                      0.451549                      0.471949   \n",
      "62                       0.329795                      0.386597   \n",
      "25                       0.382776                      0.391160   \n",
      "236                      0.603301                      0.653866   \n",
      "\n",
      "     predicted_similarity_layer_3  predicted_similarity_layer_4  \\\n",
      "370                      0.525550                      0.573733   \n",
      "22                       0.308563                      0.361724   \n",
      "87                       0.525322                      0.505605   \n",
      "28                       0.497858                      0.559589   \n",
      "840                      0.513968                      0.513079   \n",
      "788                      0.401576                      0.499432   \n",
      "155                      0.514933                      0.601386   \n",
      "62                       0.371473                      0.419869   \n",
      "25                       0.414322                      0.467549   \n",
      "236                      0.670470                      0.662327   \n",
      "\n",
      "     predicted_similarity_layer_5  predicted_similarity_layer_6  \\\n",
      "370                      0.623379                      0.681761   \n",
      "22                       0.487651                      0.613299   \n",
      "87                       0.556081                      0.540394   \n",
      "28                       0.589905                      0.657178   \n",
      "840                      0.633228                      0.722951   \n",
      "788                      0.653768                      0.731596   \n",
      "155                      0.753267                      0.795911   \n",
      "62                       0.547050                      0.631938   \n",
      "25                       0.515032                      0.602114   \n",
      "236                      0.740672                      0.783082   \n",
      "\n",
      "     predicted_similarity_layer_7  predicted_similarity_layer_8  \\\n",
      "370                      0.736052                      0.778775   \n",
      "22                       0.655994                      0.696878   \n",
      "87                       0.600101                      0.617764   \n",
      "28                       0.710931                      0.772343   \n",
      "840                      0.758858                      0.766101   \n",
      "788                      0.769216                      0.793304   \n",
      "155                      0.816346                      0.848517   \n",
      "62                       0.702998                      0.728400   \n",
      "25                       0.712488                      0.733626   \n",
      "236                      0.820033                      0.844253   \n",
      "\n",
      "     predicted_similarity_layer_9  predicted_similarity_layer_10  \\\n",
      "370                      0.772269                       0.805405   \n",
      "22                       0.725652                       0.757384   \n",
      "87                       0.672804                       0.726228   \n",
      "28                       0.794989                       0.834166   \n",
      "840                      0.773181                       0.825030   \n",
      "788                      0.771421                       0.790200   \n",
      "155                      0.862471                       0.873766   \n",
      "62                       0.725099                       0.726402   \n",
      "25                       0.698242                       0.725659   \n",
      "236                      0.840346                       0.878767   \n",
      "\n",
      "     predicted_similarity_layer_11  predicted_similarity_layer_12  \\\n",
      "370                       0.876014                       0.803559   \n",
      "22                        0.851513                       0.737021   \n",
      "87                        0.838504                       0.737533   \n",
      "28                        0.898041                       0.812403   \n",
      "840                       0.895788                       0.772400   \n",
      "788                       0.874730                       0.779384   \n",
      "155                       0.917787                       0.765889   \n",
      "62                        0.825512                       0.623034   \n",
      "25                        0.826046                       0.746425   \n",
      "236                       0.931078                       0.778537   \n",
      "\n",
      "     predicted_similarity  predicted_similarity_scaled  abs_diff  \n",
      "370              0.464330                     3.260096  8.815670  \n",
      "22               0.313093                     0.868301  8.636907  \n",
      "87               0.443877                     2.936630  8.616123  \n",
      "28               0.488464                     3.641772  8.551536  \n",
      "840              0.507136                     3.937063  8.392864  \n",
      "788              0.442101                     2.908541  8.317899  \n",
      "155              0.608120                     5.534124  8.261880  \n",
      "62               0.397066                     2.196324  8.192934  \n",
      "25               0.424983                     2.637827  8.135017  \n",
      "236              0.632370                     5.917636  8.087630  \n"
     ]
    }
   ],
   "source": [
    "simlex['abs_diff'] = abs(simlex['SimLex999'] - simlex['predicted_similarity'])\n",
    "largest_diff = simlex.nlargest(10, 'abs_diff')\n",
    "print(largest_diff)\n"
   ]
  },
  {
   "cell_type": "code",
   "execution_count": 26,
   "metadata": {
    "colab": {
     "base_uri": "https://localhost:8080/",
     "height": 428
    },
    "id": "qtvgvMnpu2wF",
    "outputId": "5bd9c4aa-12d9-4b00-98b0-ebb073c64e3b"
   },
   "outputs": [
    {
     "data": {
      "image/png": "[encoded data removed]",
      "text/plain": [
       "<Figure size 720x432 with 1 Axes>"
      ]
     },
     "metadata": {},
     "output_type": "display_data"
    }
   ],
   "source": [
    "import matplotlib.pyplot as plt\n",
    "import seaborn as sns\n",
    "\n",
    "# Create a histogram for SimLex999 scores\n",
    "plt.figure(figsize=(10,6))\n",
    "sns.histplot(data=simlex, x=\"SimLex999\", bins=30, kde=True)\n",
    "plt.title(\"Distribution of SimLex999 Scores\")\n",
    "plt.xlabel(\"SimLex999 Score\")\n",
    "plt.ylabel(\"Frequency\")\n",
    "plt.show()\n"
   ]
  },
  {
   "cell_type": "markdown",
   "metadata": {},
   "source": [
    "#### Frequency category analysis using SUBTLEX-NL frequencies"
   ]
  },
  {
   "cell_type": "code",
   "execution_count": 27,
   "metadata": {
    "id": "MMKW2XqkdW1Z"
   },
   "outputs": [],
   "source": [
    "# Lees de SUBTLEX-NL gegevens\n",
    "subtlex_nl = pd.read_csv('SUBTLEX-NL-New.txt', sep='\\t')\n",
    "\n",
    "# Maak een woordenboek dat de frequentie van elk woord opslaat\n",
    "word_frequencies = subtlex_nl.set_index('Word')['FREQcount'].to_dict()\n",
    "\n",
    "# Nu kun je de frequenties uit dit woordenboek gebruiken in plaats van de willekeurige frequenties\n"
   ]
  },
  {
   "cell_type": "code",
   "execution_count": 28,
   "metadata": {
    "colab": {
     "base_uri": "https://localhost:8080/"
    },
    "id": "vH-TK-RWdZVZ",
    "outputId": "5c375040-0571-469a-c6bb-39595146155e"
   },
   "outputs": [
    {
     "name": "stderr",
     "output_type": "stream",
     "text": [
      "/tmp/ipykernel_999649/761149108.py:23: SettingWithCopyWarning: \n",
      "A value is trying to be set on a copy of a slice from a DataFrame.\n",
      "Try using .loc[row_indexer,col_indexer] = value instead\n",
      "\n",
      "See the caveats in the documentation: https://pandas.pydata.org/pandas-docs/stable/user_guide/indexing.html#returning-a-view-versus-a-copy\n",
      "  simlex_subset['predicted_similarity'] = similarity_scores\n"
     ]
    },
    {
     "name": "stdout",
     "output_type": "stream",
     "text": [
      "Layers [1, 12] - Spearman correlation for high frequency words: 0.146\n",
      "Layers [1, 12] - Spearman correlation for low frequency words: 0.249\n"
     ]
    }
   ],
   "source": [
    "# Add frequency data to SimLex999 DataFrame\n",
    "simlex['frequency1'] = simlex['word1'].map(word_frequencies)\n",
    "simlex['frequency2'] = simlex['word2'].map(word_frequencies)\n",
    "\n",
    "# Calculate median frequency\n",
    "median_freq = simlex[['frequency1', 'frequency2']].median().mean()\n",
    "\n",
    "# Split into high frequency and low frequency subsets\n",
    "simlex_high_freq = simlex[(simlex['frequency1'] > median_freq) & (simlex['frequency2'] > median_freq)]\n",
    "simlex_low_freq = simlex[(simlex['frequency1'] <= median_freq) & (simlex['frequency2'] <= median_freq)]\n",
    "\n",
    "# Specify the layers you want to combine\n",
    "layer_nums = [1, 12]\n",
    "\n",
    "for simlex_subset, freq in zip([simlex_high_freq, simlex_low_freq], ['high', 'low']):\n",
    "    similarity_scores = []\n",
    "    for _, row in simlex_subset.iterrows():\n",
    "        word1 = row['word1']\n",
    "        word2 = row['word2']\n",
    "        similarity = calculate_similarity(word1, word2, layer_nums)\n",
    "        similarity_scores.append(similarity)\n",
    "\n",
    "    simlex_subset['predicted_similarity'] = similarity_scores\n",
    "\n",
    "    # Assuming 'SimLex999' column contains the true similarity scores\n",
    "    correlation, _ = spearmanr(simlex_subset['SimLex999'], simlex_subset['predicted_similarity'])\n",
    "    print(f'Layers {layer_nums} - Spearman correlation for {freq} frequency words: {correlation:.3f}')\n"
   ]
  },
  {
   "cell_type": "code",
   "execution_count": 29,
   "metadata": {
    "id": "X_X1oRgIditK"
   },
   "outputs": [],
   "source": [
    "simlex_high_freq = simlex[(simlex['frequency1'] > median_freq) & (simlex['frequency2'] > median_freq)].copy()\n",
    "simlex_low_freq = simlex[(simlex['frequency1'] <= median_freq) & (simlex['frequency2'] <= median_freq)].copy()\n"
   ]
  },
  {
   "cell_type": "code",
   "execution_count": 35,
   "metadata": {
    "colab": {
     "base_uri": "https://localhost:8080/"
    },
    "id": "1JRmtLTjdlUu",
    "outputId": "542c5e87-69d4-497e-d1dd-b9dd055b22df"
   },
   "outputs": [
    {
     "name": "stdout",
     "output_type": "stream",
     "text": [
      "Layer 0 - Spearman correlation for high frequency words: 0.194\n",
      "Layer 0 - Spearman correlation for low frequency words: 0.284\n",
      "Layer 1 - Spearman correlation for high frequency words: 0.162\n",
      "Layer 1 - Spearman correlation for low frequency words: 0.272\n",
      "Layer 2 - Spearman correlation for high frequency words: 0.129\n",
      "Layer 2 - Spearman correlation for low frequency words: 0.207\n",
      "Layer 3 - Spearman correlation for high frequency words: 0.116\n",
      "Layer 3 - Spearman correlation for low frequency words: 0.209\n",
      "Layer 4 - Spearman correlation for high frequency words: 0.141\n",
      "Layer 4 - Spearman correlation for low frequency words: 0.248\n",
      "Layer 5 - Spearman correlation for high frequency words: 0.143\n",
      "Layer 5 - Spearman correlation for low frequency words: 0.300\n",
      "Layer 6 - Spearman correlation for high frequency words: 0.109\n",
      "Layer 6 - Spearman correlation for low frequency words: 0.271\n",
      "Layer 7 - Spearman correlation for high frequency words: 0.092\n",
      "Layer 7 - Spearman correlation for low frequency words: 0.267\n",
      "Layer 8 - Spearman correlation for high frequency words: 0.112\n",
      "Layer 8 - Spearman correlation for low frequency words: 0.268\n",
      "Layer 9 - Spearman correlation for high frequency words: 0.118\n",
      "Layer 9 - Spearman correlation for low frequency words: 0.254\n",
      "Layer 10 - Spearman correlation for high frequency words: 0.085\n",
      "Layer 10 - Spearman correlation for low frequency words: 0.212\n",
      "Layer 11 - Spearman correlation for high frequency words: 0.029\n",
      "Layer 11 - Spearman correlation for low frequency words: 0.141\n",
      "Layer 12 - Spearman correlation for high frequency words: 0.039\n",
      "Layer 12 - Spearman correlation for low frequency words: 0.122\n"
     ]
    }
   ],
   "source": [
    "# Calculate the Spearman correlation for each layer and each frequency group\n",
    "spearman_results_high = []\n",
    "spearman_results_low = []\n",
    "\n",
    "for layer_num in range(13):  # For BERT base models, there are 13 layers including the output layer\n",
    "    similarity_scores_high = []\n",
    "    similarity_scores_low = []\n",
    "\n",
    "    for _, row in simlex_high_freq.iterrows():\n",
    "        word1 = row['word1']\n",
    "        word2 = row['word2']\n",
    "        similarity = calculate_similarity(word1, word2, [layer_num])\n",
    "        similarity_scores_high.append(similarity)\n",
    "\n",
    "    for _, row in simlex_low_freq.iterrows():\n",
    "        word1 = row['word1']\n",
    "        word2 = row['word2']\n",
    "        similarity = calculate_similarity(word1, word2, [layer_num])\n",
    "        similarity_scores_low.append(similarity)\n",
    "    \n",
    "\n",
    "    simlex_high_freq['predicted_similarity'] = similarity_scores_high\n",
    "    simlex_low_freq['predicted_similarity'] = similarity_scores_low\n",
    "\n",
    "    correlation_high, _ = spearmanr(simlex_high_freq['SimLex999'], simlex_high_freq['predicted_similarity'])\n",
    "    correlation_low, _ = spearmanr(simlex_low_freq['SimLex999'], simlex_low_freq['predicted_similarity'])\n",
    "    \n",
    "\n",
    "    spearman_results_high.append(correlation_high)\n",
    "    spearman_results_low.append(correlation_low)\n",
    "    \n",
    "    print(f'Layer {layer_num} - Spearman correlation for high frequency words: {correlation_high:.3f}')\n",
    "    print(f'Layer {layer_num} - Spearman correlation for low frequency words: {correlation_low:.3f}')\n"
   ]
  },
  {
   "cell_type": "code",
   "execution_count": 44,
   "metadata": {
    "colab": {
     "base_uri": "https://localhost:8080/",
     "height": 678
    },
    "id": "7Sewo4r9Y20H",
    "outputId": "24c54784-e2a9-4add-9a1a-caf070dc0597"
   },
   "outputs": [
    {
     "data": {
      "image/png": "[encoded data removed]",
      "text/plain": [
       "<Figure size 720x432 with 1 Axes>"
      ]
     },
     "metadata": {},
     "output_type": "display_data"
    }
   ],
   "source": [
    "import matplotlib.pyplot as plt\n",
    "import seaborn as sns\n",
    "\n",
    "# Improving plot aesthetics using Seaborn\n",
    "sns.set(style=\"whitegrid\")\n",
    "\n",
    "x = np.arange(13)  # Positions for the bars\n",
    "width = 0.4        # Width of the bars\n",
    "\n",
    "fig, ax = plt.subplots(figsize=(10, 6))\n",
    "\n",
    "# Plot side-by-side bars\n",
    "ax.bar(x - width/2, spearman_results_high, width, color=\"#1f77b4\", edgecolor='black')\n",
    "ax.bar(x + width/2, spearman_results_low, width, color=\"#ff7f0e\", edgecolor='black')\n",
    "\n",
    "\n",
    "# Adding title and labels\n",
    "ax.set_title('Spearman Correlation for High and Low Frequency Words by Layer', fontsize=14, fontweight='bold')\n",
    "ax.set_xlabel('Layers', fontsize=12, fontweight='bold')\n",
    "ax.set_ylabel('Spearman Correlation', fontsize=12, fontweight='bold')\n",
    "\n",
    "# Set the xticks to be the layer numbers\n",
    "ax.set_xticks(range(13))\n",
    "ax.set_xticklabels(range(13))\n",
    "\n",
    "# Adding a grid\n",
    "ax.grid(True)\n",
    "\n",
    "# Remove top and right borders\n",
    "sns.despine()\n",
    "\n",
    "plt.show()\n"
   ]
  },
  {
   "cell_type": "markdown",
   "metadata": {},
   "source": [
    "#### Checking model vocabulary"
   ]
  },
  {
   "cell_type": "code",
   "execution_count": 45,
   "metadata": {
    "colab": {
     "base_uri": "https://localhost:8080/"
    },
    "id": "FhkhYC2f9MVd",
    "outputId": "58762a54-2dbd-4435-f821-b980ecf4ab72"
   },
   "outputs": [
    {
     "name": "stdout",
     "output_type": "stream",
     "text": [
      "There are 556 out-of-vocabulary words.\n",
      "Some examples are: ['intuïtie', 'elastisch', 'toevoegen', 'priester', 'planeet', 'bepalen', 'legioen', 'neef', 'discussie', 'vreselijk']\n",
      "There are 318 word pairs without OOV words.\n"
     ]
    }
   ],
   "source": [
    "# Get the vocabulary used by the tokenizer\n",
    "vocab = tokenizer.get_vocab()\n",
    "\n",
    "# Create an empty set to store out-of-vocabulary (OOV) words\n",
    "oov_words = set()\n",
    "\n",
    "# Check each unique word in the SimLex-999 dataset\n",
    "for word in pd.concat([simlex['word1'], simlex['word2']]).unique():\n",
    "    if word not in vocab:\n",
    "        oov_words.add(word)\n",
    "\n",
    "print(f'There are {len(oov_words)} out-of-vocabulary words.')\n",
    "print('Some examples are:', list(oov_words)[:10])\n",
    "\n",
    "# Remove rows in simlex where either 'word1' or 'word2' is an OOV word\n",
    "simlex_no_oov = simlex[~simlex['word1'].isin(oov_words) & ~simlex['word2'].isin(oov_words)]\n",
    "print(f'There are {len(simlex_no_oov)} word pairs without OOV words.')\n"
   ]
  },
  {
   "cell_type": "code",
   "execution_count": 46,
   "metadata": {
    "colab": {
     "base_uri": "https://localhost:8080/",
     "height": 480
    },
    "id": "H5AVerRkYOR2",
    "outputId": "0f5d23cd-2e8b-4643-cbf9-13677f268dac"
   },
   "outputs": [
    {
     "name": "stdout",
     "output_type": "stream",
     "text": [
      "There are 556 out-of-vocabulary words.\n",
      "Some examples are: ['intuïtie', 'elastisch', 'toevoegen', 'priester', 'planeet', 'bepalen', 'legioen', 'neef', 'discussie', 'vreselijk']\n",
      "There are 318 word pairs without OOV words.\n"
     ]
    },
    {
     "data": {
      "image/png": "[encoded data removed]",
      "text/plain": [
       "<Figure size 720x432 with 1 Axes>"
      ]
     },
     "metadata": {},
     "output_type": "display_data"
    }
   ],
   "source": [
    "import matplotlib.pyplot as plt\n",
    "\n",
    "# Get the vocabulary used by the tokenizer\n",
    "vocab = tokenizer.get_vocab()\n",
    "\n",
    "# Create an empty set to store out-of-vocabulary (OOV) words\n",
    "oov_words = set()\n",
    "\n",
    "# Check each unique word in the SimLex-999 dataset\n",
    "for word in pd.concat([simlex['word1'], simlex['word2']]).unique():\n",
    "    if word not in vocab:\n",
    "        oov_words.add(word)\n",
    "\n",
    "print(f'There are {len(oov_words)} out-of-vocabulary words.')\n",
    "print('Some examples are:', list(oov_words)[:10])\n",
    "\n",
    "# Remove rows in simlex where either 'word1' or 'word2' is an OOV word\n",
    "simlex_no_oov = simlex[~simlex['word1'].isin(oov_words) & ~simlex['word2'].isin(oov_words)]\n",
    "print(f'There are {len(simlex_no_oov)} word pairs without OOV words.')\n",
    "\n",
    "# Create a figure\n",
    "fig, ax = plt.subplots(figsize=(10, 6))\n",
    "\n",
    "# Plotting the number of OOV words\n",
    "ax.bar(['With OOV', 'Without OOV'], [len(oov_words), len(simlex_no_oov)])\n",
    "ax.set_title('Number of Out-of-Vocabulary (OOV) Words')\n",
    "ax.set_ylabel('Count')\n",
    "\n",
    "plt.show()\n"
   ]
  },
  {
   "cell_type": "code",
   "execution_count": 47,
   "metadata": {
    "colab": {
     "base_uri": "https://localhost:8080/",
     "height": 570
    },
    "id": "64NJK1CjYcx6",
    "outputId": "9eba69c1-e27e-474c-9d4f-8955f75ba9ef"
   },
   "outputs": [
    {
     "data": {
      "image/png": "[encoded data removed]",
      "text/plain": [
       "<Figure size 720x432 with 1 Axes>"
      ]
     },
     "metadata": {},
     "output_type": "display_data"
    }
   ],
   "source": [
    "import matplotlib.pyplot as plt\n",
    "import seaborn as sns\n",
    "\n",
    "# Improving plot aesthetics using Seaborn\n",
    "sns.set(style=\"whitegrid\")\n",
    "\n",
    "# Create a figure and a set of subplots\n",
    "fig, ax = plt.subplots(figsize=(10, 6))\n",
    "\n",
    "# Plotting data with edgecolor and custom colors\n",
    "ax = sns.barplot(x=['With OOV', 'Without OOV'], y=[len(oov_words), len(simlex_no_oov)], palette=[\"#1f77b4\", \"#ff7f0e\"], ax=ax, edgecolor='black')\n",
    "\n",
    "# Adding title and labels\n",
    "ax.set_title('Number of Out-of-Vocabulary (OOV) Words', fontsize=14, fontweight='bold')\n",
    "ax.set_ylabel('Count', fontsize=12, fontweight='bold')\n",
    "\n",
    "# Adding a grid\n",
    "ax.grid(True)\n",
    "\n",
    "# Remove top and right borders\n",
    "sns.despine()\n",
    "\n",
    "plt.show()\n"
   ]
  },
  {
   "cell_type": "markdown",
   "metadata": {},
   "source": [
    "### Code for getting layer-wise similarity, all layers, without subtokenized words (OOV):"
   ]
  },
  {
   "cell_type": "code",
   "execution_count": 50,
   "metadata": {
    "colab": {
     "base_uri": "https://localhost:8080/"
    },
    "id": "GnlouK5NWabq",
    "outputId": "086974a6-013b-41bf-f107-c5792b92bef3"
   },
   "outputs": [
    {
     "name": "stderr",
     "output_type": "stream",
     "text": [
      "/tmp/ipykernel_999649/2419495525.py:64: SettingWithCopyWarning: \n",
      "A value is trying to be set on a copy of a slice from a DataFrame.\n",
      "Try using .loc[row_indexer,col_indexer] = value instead\n",
      "\n",
      "See the caveats in the documentation: https://pandas.pydata.org/pandas-docs/stable/user_guide/indexing.html#returning-a-view-versus-a-copy\n",
      "  simlex_no_oov[f'predicted_similarity_layer_{layer_num}'] = similarity_scores\n"
     ]
    },
    {
     "name": "stdout",
     "output_type": "stream",
     "text": [
      "Layer 0 - Spearman correlation (No OOV): 0.461\n",
      "Layer 1 - Spearman correlation (No OOV): 0.401\n",
      "Layer 2 - Spearman correlation (No OOV): 0.362\n",
      "Layer 3 - Spearman correlation (No OOV): 0.336\n",
      "Layer 4 - Spearman correlation (No OOV): 0.330\n",
      "Layer 5 - Spearman correlation (No OOV): 0.346\n",
      "Layer 6 - Spearman correlation (No OOV): 0.336\n",
      "Layer 7 - Spearman correlation (No OOV): 0.326\n",
      "Layer 8 - Spearman correlation (No OOV): 0.317\n",
      "Layer 9 - Spearman correlation (No OOV): 0.305\n",
      "Layer 10 - Spearman correlation (No OOV): 0.276\n",
      "Layer 11 - Spearman correlation (No OOV): 0.206\n",
      "Layer 12 - Spearman correlation (No OOV): 0.197\n"
     ]
    }
   ],
   "source": [
    "def get_word_embedding(word, layer_nums):\n",
    "    # Tokenize the word into subtokens and add special tokens [CLS] and [SEP]\n",
    "    subtokens = [tokenizer.cls_token] + tokenizer.tokenize(word) + [tokenizer.sep_token]\n",
    "    # Convert subtokens to input IDs\n",
    "    input_ids = tokenizer.convert_tokens_to_ids(subtokens)\n",
    "    # Wrap it in a tensor and add an extra batch dimension\n",
    "    input_ids = torch.tensor(input_ids).unsqueeze(0)\n",
    "    # Make sure the model does not compute gradients\n",
    "    with torch.no_grad():\n",
    "        # Get the model outputs\n",
    "        outputs = model(input_ids, output_hidden_states=True)\n",
    "    # Check if layer_nums is a list or a single integer\n",
    "    if isinstance(layer_nums, int):\n",
    "        layer_nums = [layer_nums]\n",
    "    # Use the hidden state from the specified layers as word embedding\n",
    "    embeddings = [outputs.hidden_states[i] for i in layer_nums]\n",
    "    # Average the embeddings from the specified layers\n",
    "    averaged_embedding = torch.mean(torch.stack(embeddings), dim=0)\n",
    "    # Ignore the first and the last token ([CLS] and [SEP])\n",
    "    averaged_embedding = averaged_embedding[0, 1:-1]\n",
    "    # Get the mean of the subtoken vectors to get the word vector\n",
    "    word_embedding = torch.mean(averaged_embedding, dim=0)\n",
    "    # Convert tensor to a numpy array\n",
    "    word_embedding = word_embedding.numpy()\n",
    "    return word_embedding\n",
    "\n",
    "def calculate_similarity(word1, word2, layer_nums):\n",
    "    word1_embedding = get_word_embedding(word1, layer_nums)\n",
    "    word2_embedding = get_word_embedding(word2, layer_nums)\n",
    "    similarity = 1 - cosine(word1_embedding, word2_embedding)\n",
    "    return similarity\n",
    "\n",
    "# Specify the layers you want to combine\n",
    "layer_nums = [1, 12]\n",
    "\n",
    "spearman_results_oov = []  # A list to store the Spearman correlations\n",
    "\n",
    "# Calculate the Spearman correlation for each layer and each frequency group\n",
    "for layer_num in range(13):  # For RobBERT base models, there are 13 layers including the output layer\n",
    "    similarity_scores = []  # Initialize similarity_scores in each iteration\n",
    "\n",
    "    for _, row in simlex_no_oov.iterrows():\n",
    "        word1 = row['word1']\n",
    "        word2 = row['word2']\n",
    "        similarity = calculate_similarity(word1, word2, layer_num)\n",
    "        similarity_scores.append(similarity)\n",
    "\n",
    "    simlex_no_oov[f'predicted_similarity_layer_{layer_num}'] = similarity_scores\n",
    "    correlation, _ = spearmanr(simlex_no_oov['SimLex999'], simlex_no_oov[f'predicted_similarity_layer_{layer_num}'])\n",
    "    spearman_results_oov.append(correlation)\n",
    "    print(f'Layer {layer_num} - Spearman correlation (No OOV): {correlation:.3f}')\n"
   ]
  },
  {
   "cell_type": "markdown",
   "metadata": {},
   "source": [
    "#### Visualize in blue colour scheme"
   ]
  },
  {
   "cell_type": "code",
   "execution_count": 51,
   "metadata": {},
   "outputs": [
    {
     "data": {
      "image/png": "[encoded data removed]",
      "text/plain": [
       "<Figure size 720x432 with 1 Axes>"
      ]
     },
     "metadata": {},
     "output_type": "display_data"
    }
   ],
   "source": [
    "import torch\n",
    "from scipy.spatial.distance import cosine\n",
    "from scipy.stats import spearmanr\n",
    "import matplotlib.pyplot as plt\n",
    "import seaborn as sns\n",
    "\n",
    "# Plotting\n",
    "sns.set(style=\"whitegrid\")\n",
    "fig, ax = plt.subplots(figsize=(10, 6))\n",
    "ax = sns.barplot(x=list(range(13)), y=spearman_results_oov, palette=\"Blues_d\", ax=ax, edgecolor='black')\n",
    "ax.set_title('Spearman Correlation Across Transformer Layers', fontsize=14, fontweight='bold')\n",
    "ax.set_xlabel('Transformer Layers', fontsize=12, fontweight='bold')\n",
    "ax.set_ylabel('Spearman Correlation', fontsize=12, fontweight='bold')\n",
    "ax.grid(True)\n",
    "sns.despine()\n",
    "plt.show()"
   ]
  },
  {
   "cell_type": "markdown",
   "metadata": {},
   "source": [
    "#### POS-based analysis of the above"
   ]
  },
  {
   "cell_type": "code",
   "execution_count": 52,
   "metadata": {
    "colab": {
     "base_uri": "https://localhost:8080/"
    },
    "id": "1FgzIl5FVUe-",
    "outputId": "dbd0ef7c-3a51-4bce-dbed-a6fa6617f526"
   },
   "outputs": [
    {
     "name": "stdout",
     "output_type": "stream",
     "text": [
      "Spearman correlation for A: 0.43204140136362396\n",
      "Spearman correlation for N: 0.482378898976001\n",
      "Spearman correlation for V: 0.0703531370461269\n"
     ]
    },
    {
     "name": "stderr",
     "output_type": "stream",
     "text": [
      "/tmp/ipykernel_999649/930490011.py:3: UserWarning: Boolean Series key will be reindexed to match DataFrame index.\n",
      "  pos_data = simlex_no_oov[simlex['POS'] == pos]\n"
     ]
    }
   ],
   "source": [
    "pos_categories = [\"A\", \"N\", \"V\"]\n",
    "for pos in pos_categories:\n",
    "    pos_data = simlex_no_oov[simlex['POS'] == pos]\n",
    "    spearman_corr = pos_data['SimLex999'].corr(pos_data['predicted_similarity_layer_0'], method='spearman')\n",
    "    print(f\"Spearman correlation for {pos}: {spearman_corr}\")\n"
   ]
  },
  {
   "cell_type": "code",
   "execution_count": 53,
   "metadata": {
    "colab": {
     "base_uri": "https://localhost:8080/",
     "height": 664
    },
    "id": "Au1ki88eoH0K",
    "outputId": "d44cb1ee-2c2f-4ed4-a3b0-7765720aa57c"
   },
   "outputs": [
    {
     "data": {
      "image/png": "[encoded data removed]",
      "text/plain": [
       "<Figure size 720x720 with 1 Axes>"
      ]
     },
     "metadata": {},
     "output_type": "display_data"
    }
   ],
   "source": [
    "import matplotlib.pyplot as plt\n",
    "\n",
    "# Calculate POS frequencies\n",
    "pos_counts = simlex['POS'].value_counts()\n",
    "\n",
    "# Plot a pie chart\n",
    "plt.figure(figsize=(10,10))\n",
    "plt.pie(pos_counts, labels=pos_counts.index, autopct='%1.1f%%', startangle=90)\n",
    "plt.title('Distribution of Part-of-Speech in Dataset', fontsize=14, fontweight='bold')\n",
    "plt.show()\n"
   ]
  }
 ],
 "metadata": {
  "accelerator": "GPU",
  "colab": {
   "gpuType": "T4",
   "provenance": []
  },
  "gpuClass": "standard",
  "kernelspec": {
   "display_name": "Python 3 (ipykernel)",
   "language": "python",
   "name": "python3"
  },
  "language_info": {
   "codemirror_mode": {
    "name": "ipython",
    "version": 3
   },
   "file_extension": ".py",
   "mimetype": "text/x-python",
   "name": "python",
   "nbconvert_exporter": "python",
   "pygments_lexer": "ipython3",
   "version": "3.8.13"
  }
 },
 "nbformat": 4,
 "nbformat_minor": 4
}
