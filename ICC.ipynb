{
  "nbformat": 4,
  "nbformat_minor": 0,
  "metadata": {
    "colab": {
      "provenance": []
    },
    "kernelspec": {
      "name": "python3",
      "display_name": "Python 3"
    },
    "language_info": {
      "name": "python"
    }
  },
  "cells": [
    {
      "cell_type": "code",
      "execution_count": null,
      "metadata": {
        "colab": {
          "base_uri": "https://localhost:8080/"
        },
        "id": "qv4CBkFcAdKV",
        "outputId": "aaab1db6-3a6d-4758-a0b3-68ef7838d4c3"
      },
      "outputs": [
        {
          "output_type": "stream",
          "name": "stdout",
          "text": [
            "Looking in indexes: https://pypi.org/simple, https://us-python.pkg.dev/colab-wheels/public/simple/\n",
            "Requirement already satisfied: pingouin in /usr/local/lib/python3.9/dist-packages (0.5.3)\n",
            "Requirement already satisfied: pandas-flavor>=0.2.0 in /usr/local/lib/python3.9/dist-packages (from pingouin) (0.5.0)\n",
            "Requirement already satisfied: seaborn>=0.11 in /usr/local/lib/python3.9/dist-packages (from pingouin) (0.12.2)\n",
            "Requirement already satisfied: scikit-learn in /usr/local/lib/python3.9/dist-packages (from pingouin) (1.2.2)\n",
            "Requirement already satisfied: tabulate in /usr/local/lib/python3.9/dist-packages (from pingouin) (0.8.10)\n",
            "Requirement already satisfied: matplotlib>=3.0.2 in /usr/local/lib/python3.9/dist-packages (from pingouin) (3.7.1)\n",
            "Requirement already satisfied: pandas>=1.0 in /usr/local/lib/python3.9/dist-packages (from pingouin) (1.5.3)\n",
            "Requirement already satisfied: statsmodels>=0.13 in /usr/local/lib/python3.9/dist-packages (from pingouin) (0.13.5)\n",
            "Requirement already satisfied: outdated in /usr/local/lib/python3.9/dist-packages (from pingouin) (0.2.2)\n",
            "Requirement already satisfied: numpy>=1.19 in /usr/local/lib/python3.9/dist-packages (from pingouin) (1.22.4)\n",
            "Requirement already satisfied: scipy>=1.7 in /usr/local/lib/python3.9/dist-packages (from pingouin) (1.10.1)\n",
            "Requirement already satisfied: pillow>=6.2.0 in /usr/local/lib/python3.9/dist-packages (from matplotlib>=3.0.2->pingouin) (8.4.0)\n",
            "Requirement already satisfied: importlib-resources>=3.2.0 in /usr/local/lib/python3.9/dist-packages (from matplotlib>=3.0.2->pingouin) (5.12.0)\n",
            "Requirement already satisfied: pyparsing>=2.3.1 in /usr/local/lib/python3.9/dist-packages (from matplotlib>=3.0.2->pingouin) (3.0.9)\n",
            "Requirement already satisfied: fonttools>=4.22.0 in /usr/local/lib/python3.9/dist-packages (from matplotlib>=3.0.2->pingouin) (4.39.3)\n",
            "Requirement already satisfied: contourpy>=1.0.1 in /usr/local/lib/python3.9/dist-packages (from matplotlib>=3.0.2->pingouin) (1.0.7)\n",
            "Requirement already satisfied: kiwisolver>=1.0.1 in /usr/local/lib/python3.9/dist-packages (from matplotlib>=3.0.2->pingouin) (1.4.4)\n",
            "Requirement already satisfied: cycler>=0.10 in /usr/local/lib/python3.9/dist-packages (from matplotlib>=3.0.2->pingouin) (0.11.0)\n",
            "Requirement already satisfied: packaging>=20.0 in /usr/local/lib/python3.9/dist-packages (from matplotlib>=3.0.2->pingouin) (23.1)\n",
            "Requirement already satisfied: python-dateutil>=2.7 in /usr/local/lib/python3.9/dist-packages (from matplotlib>=3.0.2->pingouin) (2.8.2)\n",
            "Requirement already satisfied: pytz>=2020.1 in /usr/local/lib/python3.9/dist-packages (from pandas>=1.0->pingouin) (2022.7.1)\n",
            "Requirement already satisfied: lazy-loader>=0.1 in /usr/local/lib/python3.9/dist-packages (from pandas-flavor>=0.2.0->pingouin) (0.2)\n",
            "Requirement already satisfied: xarray in /usr/local/lib/python3.9/dist-packages (from pandas-flavor>=0.2.0->pingouin) (2022.12.0)\n",
            "Requirement already satisfied: patsy>=0.5.2 in /usr/local/lib/python3.9/dist-packages (from statsmodels>=0.13->pingouin) (0.5.3)\n",
            "Requirement already satisfied: setuptools>=44 in /usr/local/lib/python3.9/dist-packages (from outdated->pingouin) (67.7.2)\n",
            "Requirement already satisfied: requests in /usr/local/lib/python3.9/dist-packages (from outdated->pingouin) (2.27.1)\n",
            "Requirement already satisfied: littleutils in /usr/local/lib/python3.9/dist-packages (from outdated->pingouin) (0.2.2)\n",
            "Requirement already satisfied: joblib>=1.1.1 in /usr/local/lib/python3.9/dist-packages (from scikit-learn->pingouin) (1.2.0)\n",
            "Requirement already satisfied: threadpoolctl>=2.0.0 in /usr/local/lib/python3.9/dist-packages (from scikit-learn->pingouin) (3.1.0)\n",
            "Requirement already satisfied: zipp>=3.1.0 in /usr/local/lib/python3.9/dist-packages (from importlib-resources>=3.2.0->matplotlib>=3.0.2->pingouin) (3.15.0)\n",
            "Requirement already satisfied: six in /usr/local/lib/python3.9/dist-packages (from patsy>=0.5.2->statsmodels>=0.13->pingouin) (1.16.0)\n",
            "Requirement already satisfied: certifi>=2017.4.17 in /usr/local/lib/python3.9/dist-packages (from requests->outdated->pingouin) (2022.12.7)\n",
            "Requirement already satisfied: idna<4,>=2.5 in /usr/local/lib/python3.9/dist-packages (from requests->outdated->pingouin) (3.4)\n",
            "Requirement already satisfied: charset-normalizer~=2.0.0 in /usr/local/lib/python3.9/dist-packages (from requests->outdated->pingouin) (2.0.12)\n",
            "Requirement already satisfied: urllib3<1.27,>=1.21.1 in /usr/local/lib/python3.9/dist-packages (from requests->outdated->pingouin) (1.26.15)\n"
          ]
        }
      ],
      "source": [
        "!pip install pingouin"
      ]
    },
    {
      "cell_type": "code",
      "source": [
        "# Step 1: Import the required packages\n",
        "import pandas as pd\n",
        "import pingouin as pg\n",
        "\n",
        "# Step 2: Load the data\n",
        "# Make sure to use the correct path to your Excel file\n",
        "df = pd.read_excel('/content/sample_data/icc_group1.xlsx')\n",
        "\n",
        "# Step 3: Melt the DataFrame\n",
        "df_melt = pd.melt(df, id_vars='Participant', var_name='wordpair', value_name='rating')\n",
        "\n",
        "# Step 4: Drop rows with missing ratings\n",
        "df_melt = df_melt.dropna(subset=['rating'])\n",
        "\n",
        "# Step 5: Count the number of ratings per word pair\n",
        "rating_counts = df_melt['wordpair'].value_counts()\n",
        "\n",
        "# Step 6: Filter out the word pairs that were not rated by all participants\n",
        "fully_rated_wordpairs = rating_counts[rating_counts == rating_counts.max()].index\n",
        "df_melt_fully_rated = df_melt[df_melt['wordpair'].isin(fully_rated_wordpairs)]\n",
        "\n",
        "# Step 7: Compute the ICC\n",
        "icc = pg.intraclass_corr(data=df_melt_fully_rated, targets='wordpair', raters='Participant', ratings='rating')\n",
        "print(icc)\n"
      ],
      "metadata": {
        "colab": {
          "base_uri": "https://localhost:8080/"
        },
        "id": "RhEmhJHdMmAt",
        "outputId": "371d4d95-5c90-491c-934b-affad0fd5dde"
      },
      "execution_count": null,
      "outputs": [
        {
          "output_type": "stream",
          "name": "stdout",
          "text": [
            "    Type              Description       ICC          F  df1   df2  \\\n",
            "0   ICC1   Single raters absolute  0.368160  10.905557   73  1184   \n",
            "1   ICC2     Single random raters  0.375977  16.449743   73  1168   \n",
            "2   ICC3      Single fixed raters  0.476113  16.449743   73  1168   \n",
            "3  ICC1k  Average raters absolute  0.908304  10.905557   73  1184   \n",
            "4  ICC2k    Average random raters  0.911053  16.449743   73  1168   \n",
            "5  ICC3k     Average fixed raters  0.939209  16.449743   73  1168   \n",
            "\n",
            "            pval         CI95%  \n",
            "0   7.405750e-89  [0.29, 0.46]  \n",
            "1  1.258001e-132  [0.28, 0.48]  \n",
            "2  1.258001e-132  [0.39, 0.57]  \n",
            "3   7.405750e-89  [0.87, 0.94]  \n",
            "4  1.258001e-132  [0.87, 0.94]  \n",
            "5  1.258001e-132  [0.92, 0.96]  \n"
          ]
        }
      ]
    },
    {
      "cell_type": "code",
      "source": [
        "# Step 1: Import the required packages\n",
        "import pandas as pd\n",
        "import pingouin as pg\n",
        "\n",
        "# Step 2: Load the data\n",
        "# Make sure to use the correct path to your Excel file\n",
        "df = pd.read_excel('/content/sample_data/icc_group2.xlsx')\n",
        "\n",
        "# Step 3: Melt the DataFrame\n",
        "df_melt = pd.melt(df, id_vars='Participant', var_name='wordpair', value_name='rating')\n",
        "\n",
        "# Step 4: Drop rows with missing ratings\n",
        "df_melt = df_melt.dropna(subset=['rating'])\n",
        "\n",
        "# Step 5: Count the number of ratings per word pair\n",
        "rating_counts = df_melt['wordpair'].value_counts()\n",
        "\n",
        "# Step 6: Filter out the word pairs that were not rated by all participants\n",
        "fully_rated_wordpairs = rating_counts[rating_counts == rating_counts.max()].index\n",
        "df_melt_fully_rated = df_melt[df_melt['wordpair'].isin(fully_rated_wordpairs)]\n",
        "\n",
        "# Step 7: Compute the ICC\n",
        "icc = pg.intraclass_corr(data=df_melt_fully_rated, targets='wordpair', raters='Participant', ratings='rating')\n",
        "print(icc)\n"
      ],
      "metadata": {
        "colab": {
          "base_uri": "https://localhost:8080/"
        },
        "id": "auPZD3wZVsKK",
        "outputId": "b87776c5-eb02-4b0f-aaae-b8e83f6b4471"
      },
      "execution_count": null,
      "outputs": [
        {
          "output_type": "stream",
          "name": "stdout",
          "text": [
            "    Type              Description       ICC          F  df1  df2  \\\n",
            "0   ICC1   Single raters absolute  0.490207  17.346873   25  416   \n",
            "1   ICC2     Single random raters  0.495041  25.482088   25  400   \n",
            "2   ICC3      Single fixed raters  0.590185  25.482088   25  400   \n",
            "3  ICC1k  Average raters absolute  0.942353  17.346873   25  416   \n",
            "4  ICC2k    Average random raters  0.943394  25.482088   25  400   \n",
            "5  ICC3k     Average fixed raters  0.960757  25.482088   25  400   \n",
            "\n",
            "           pval         CI95%  \n",
            "0  6.611863e-50  [0.36, 0.66]  \n",
            "1  2.054373e-67  [0.35, 0.66]  \n",
            "2  2.054373e-67  [0.46, 0.74]  \n",
            "3  6.611863e-50   [0.9, 0.97]  \n",
            "4  2.054373e-67   [0.9, 0.97]  \n",
            "5  2.054373e-67  [0.93, 0.98]  \n"
          ]
        }
      ]
    },
    {
      "cell_type": "code",
      "source": [
        "# Step 1: Import the required packages\n",
        "import pandas as pd\n",
        "import pingouin as pg\n",
        "\n",
        "# Step 2: Load the data\n",
        "# Make sure to use the correct path to your Excel file\n",
        "df = pd.read_excel('/content/sample_data/icc_group3.xlsx')\n",
        "\n",
        "# Step 3: Melt the DataFrame\n",
        "df_melt = pd.melt(df, id_vars='Participant', var_name='wordpair', value_name='rating')\n",
        "\n",
        "# Step 4: Drop rows with missing ratings\n",
        "df_melt = df_melt.dropna(subset=['rating'])\n",
        "\n",
        "# Step 5: Count the number of ratings per word pair\n",
        "rating_counts = df_melt['wordpair'].value_counts()\n",
        "\n",
        "# Step 6: Filter out the word pairs that were not rated by all participants\n",
        "fully_rated_wordpairs = rating_counts[rating_counts == rating_counts.max()].index\n",
        "df_melt_fully_rated = df_melt[df_melt['wordpair'].isin(fully_rated_wordpairs)]\n",
        "\n",
        "# Step 7: Compute the ICC\n",
        "icc = pg.intraclass_corr(data=df_melt_fully_rated, targets='wordpair', raters='Participant', ratings='rating')\n",
        "print(icc)\n"
      ],
      "metadata": {
        "colab": {
          "base_uri": "https://localhost:8080/"
        },
        "id": "7A7Qw-27Vrhk",
        "outputId": "bfa9ead8-ec0b-4119-8b10-827864d7fc89"
      },
      "execution_count": null,
      "outputs": [
        {
          "output_type": "stream",
          "name": "stdout",
          "text": [
            "    Type              Description       ICC          F  df1  df2  \\\n",
            "0   ICC1   Single raters absolute  0.374286   9.374447   50  663   \n",
            "1   ICC2     Single random raters  0.386706  17.141214   50  650   \n",
            "2   ICC3      Single fixed raters  0.535520  17.141214   50  650   \n",
            "3  ICC1k  Average raters absolute  0.893327   9.374447   50  663   \n",
            "4  ICC2k    Average random raters  0.898245  17.141214   50  650   \n",
            "5  ICC3k     Average fixed raters  0.941661  17.141214   50  650   \n",
            "\n",
            "           pval         CI95%  \n",
            "0  9.084257e-50  [0.28, 0.49]  \n",
            "1  2.138188e-88  [0.27, 0.52]  \n",
            "2  2.138188e-88  [0.44, 0.65]  \n",
            "3  9.084257e-50  [0.84, 0.93]  \n",
            "4  2.138188e-88  [0.83, 0.94]  \n",
            "5  2.138188e-88  [0.92, 0.96]  \n"
          ]
        }
      ]
    },
    {
      "cell_type": "code",
      "source": [
        "# Step 1: Import the required packages\n",
        "import pandas as pd\n",
        "import pingouin as pg\n",
        "\n",
        "# Step 2: Load the data\n",
        "# Make sure to use the correct path to your Excel file\n",
        "df = pd.read_excel('/content/sample_data/icc_group4.xlsx')\n",
        "\n",
        "# Step 3: Melt the DataFrame\n",
        "df_melt = pd.melt(df, id_vars='Participant', var_name='wordpair', value_name='rating')\n",
        "\n",
        "# Step 4: Drop rows with missing ratings\n",
        "df_melt = df_melt.dropna(subset=['rating'])\n",
        "\n",
        "# Step 5: Count the number of ratings per word pair\n",
        "rating_counts = df_melt['wordpair'].value_counts()\n",
        "\n",
        "# Step 6: Filter out the word pairs that were not rated by all participants\n",
        "fully_rated_wordpairs = rating_counts[rating_counts == rating_counts.max()].index\n",
        "df_melt_fully_rated = df_melt[df_melt['wordpair'].isin(fully_rated_wordpairs)]\n",
        "\n",
        "# Step 7: Compute the ICC\n",
        "icc = pg.intraclass_corr(data=df_melt_fully_rated, targets='wordpair', raters='Participant', ratings='rating')\n",
        "print(icc)\n"
      ],
      "metadata": {
        "colab": {
          "base_uri": "https://localhost:8080/"
        },
        "id": "aGcBLptsVxQ_",
        "outputId": "8b31176d-61a4-4c52-8b6d-d06fe6d5b02f"
      },
      "execution_count": null,
      "outputs": [
        {
          "output_type": "stream",
          "name": "stdout",
          "text": [
            "    Type              Description       ICC          F  df1  df2  \\\n",
            "0   ICC1   Single raters absolute  0.355591   7.069916   25  260   \n",
            "1   ICC2     Single random raters  0.368067  10.663533   25  250   \n",
            "2   ICC3      Single fixed raters  0.467661  10.663533   25  250   \n",
            "3  ICC1k  Average raters absolute  0.858556   7.069916   25  260   \n",
            "4  ICC2k    Average random raters  0.864991  10.663533   25  250   \n",
            "5  ICC3k     Average fixed raters  0.906222  10.663533   25  250   \n",
            "\n",
            "           pval         CI95%  \n",
            "0  4.621739e-18  [0.23, 0.54]  \n",
            "1  3.583266e-27  [0.23, 0.55]  \n",
            "2  3.583266e-27  [0.33, 0.64]  \n",
            "3  4.621739e-18  [0.76, 0.93]  \n",
            "4  3.583266e-27  [0.76, 0.93]  \n",
            "5  3.583266e-27  [0.84, 0.95]  \n"
          ]
        }
      ]
    },
    {
      "cell_type": "code",
      "source": [
        "# Step 1: Import the required packages\n",
        "import pandas as pd\n",
        "import pingouin as pg\n",
        "\n",
        "# Step 2: Load the data\n",
        "# Make sure to use the correct path to your Excel file\n",
        "df = pd.read_excel('/content/sample_data/icc_group5.xlsx')\n",
        "\n",
        "# Step 3: Melt the DataFrame\n",
        "df_melt = pd.melt(df, id_vars='Participant', var_name='wordpair', value_name='rating')\n",
        "\n",
        "# Step 4: Drop rows with missing ratings\n",
        "df_melt = df_melt.dropna(subset=['rating'])\n",
        "\n",
        "# Step 5: Count the number of ratings per word pair\n",
        "rating_counts = df_melt['wordpair'].value_counts()\n",
        "\n",
        "# Step 6: Filter out the word pairs that were not rated by all participants\n",
        "fully_rated_wordpairs = rating_counts[rating_counts == rating_counts.max()].index\n",
        "df_melt_fully_rated = df_melt[df_melt['wordpair'].isin(fully_rated_wordpairs)]\n",
        "\n",
        "# Step 7: Compute the ICC\n",
        "icc = pg.intraclass_corr(data=df_melt_fully_rated, targets='wordpair', raters='Participant', ratings='rating')\n",
        "print(icc)\n"
      ],
      "metadata": {
        "colab": {
          "base_uri": "https://localhost:8080/"
        },
        "id": "zRTTEtlfVyv6",
        "outputId": "3688162a-1f63-44ab-8d54-53581b2b34ec"
      },
      "execution_count": null,
      "outputs": [
        {
          "output_type": "stream",
          "name": "stdout",
          "text": [
            "    Type              Description       ICC          F  df1  df2  \\\n",
            "0   ICC1   Single raters absolute  0.328788   8.837474   50  765   \n",
            "1   ICC2     Single random raters  0.337041  12.566547   50  750   \n",
            "2   ICC3      Single fixed raters  0.419586  12.566547   50  750   \n",
            "3  ICC1k  Average raters absolute  0.886845   8.837474   50  765   \n",
            "4  ICC2k    Average random raters  0.890522  12.566547   50  750   \n",
            "5  ICC3k     Average fixed raters  0.920424  12.566547   50  750   \n",
            "\n",
            "           pval         CI95%  \n",
            "0  2.320970e-48  [0.24, 0.44]  \n",
            "1  1.151540e-69  [0.24, 0.46]  \n",
            "2  1.151540e-69  [0.32, 0.54]  \n",
            "3  2.320970e-48  [0.84, 0.93]  \n",
            "4  1.151540e-69  [0.84, 0.93]  \n",
            "5  1.151540e-69  [0.88, 0.95]  \n"
          ]
        }
      ]
    },
    {
      "cell_type": "code",
      "source": [
        "# Step 1: Import the required packages\n",
        "import pandas as pd\n",
        "import pingouin as pg\n",
        "\n",
        "# Step 2: Load the data\n",
        "# Make sure to use the correct path to your Excel file\n",
        "df = pd.read_excel('/content/sample_data/icc_group6.xlsx')\n",
        "\n",
        "# Step 3: Melt the DataFrame\n",
        "df_melt = pd.melt(df, id_vars='Participant', var_name='wordpair', value_name='rating')\n",
        "\n",
        "# Step 4: Drop rows with missing ratings\n",
        "df_melt = df_melt.dropna(subset=['rating'])\n",
        "\n",
        "# Step 5: Count the number of ratings per word pair\n",
        "rating_counts = df_melt['wordpair'].value_counts()\n",
        "\n",
        "# Step 6: Filter out the word pairs that were not rated by all participants\n",
        "fully_rated_wordpairs = rating_counts[rating_counts == rating_counts.max()].index\n",
        "df_melt_fully_rated = df_melt[df_melt['wordpair'].isin(fully_rated_wordpairs)]\n",
        "\n",
        "# Step 7: Compute the ICC\n",
        "icc = pg.intraclass_corr(data=df_melt_fully_rated, targets='wordpair', raters='Participant', ratings='rating')\n",
        "print(icc)\n"
      ],
      "metadata": {
        "colab": {
          "base_uri": "https://localhost:8080/"
        },
        "id": "y6j52xRPV0I_",
        "outputId": "7aaa69c7-7e80-43d0-ee57-63a9aa2ec3bb"
      },
      "execution_count": null,
      "outputs": [
        {
          "output_type": "stream",
          "name": "stdout",
          "text": [
            "    Type              Description       ICC          F  df1  df2  \\\n",
            "0   ICC1   Single raters absolute  0.561442  22.763394   50  816   \n",
            "1   ICC2     Single random raters  0.562811  25.909624   50  800   \n",
            "2   ICC3      Single fixed raters  0.594365  25.909624   50  800   \n",
            "3  ICC1k  Average raters absolute  0.956070  22.763394   50  816   \n",
            "4  ICC2k    Average random raters  0.956303  25.909624   50  800   \n",
            "5  ICC3k     Average fixed raters  0.961404  25.909624   50  800   \n",
            "\n",
            "            pval         CI95%  \n",
            "0  6.572751e-122  [0.46, 0.67]  \n",
            "1  5.039069e-134  [0.46, 0.67]  \n",
            "2  5.039069e-134    [0.5, 0.7]  \n",
            "3  6.572751e-122  [0.94, 0.97]  \n",
            "4  5.039069e-134  [0.94, 0.97]  \n",
            "5  5.039069e-134  [0.94, 0.98]  \n"
          ]
        }
      ]
    },
    {
      "cell_type": "code",
      "source": [
        "# Step 1: Import the required packages\n",
        "import pandas as pd\n",
        "import pingouin as pg\n",
        "\n",
        "# Step 2: Load the data\n",
        "# Make sure to use the correct path to your Excel file\n",
        "df = pd.read_excel('/content/sample_data/icc_group7.xlsx')\n",
        "\n",
        "# Step 3: Melt the DataFrame\n",
        "df_melt = pd.melt(df, id_vars='Participant', var_name='wordpair', value_name='rating')\n",
        "\n",
        "# Step 4: Drop rows with missing ratings\n",
        "df_melt = df_melt.dropna(subset=['rating'])\n",
        "\n",
        "# Step 5: Count the number of ratings per word pair\n",
        "rating_counts = df_melt['wordpair'].value_counts()\n",
        "\n",
        "# Step 6: Filter out the word pairs that were not rated by all participants\n",
        "fully_rated_wordpairs = rating_counts[rating_counts == rating_counts.max()].index\n",
        "df_melt_fully_rated = df_melt[df_melt['wordpair'].isin(fully_rated_wordpairs)]\n",
        "\n",
        "# Step 7: Compute the ICC\n",
        "icc = pg.intraclass_corr(data=df_melt_fully_rated, targets='wordpair', raters='Participant', ratings='rating')\n",
        "print(icc)\n"
      ],
      "metadata": {
        "colab": {
          "base_uri": "https://localhost:8080/"
        },
        "id": "0fTzGuCqV1tj",
        "outputId": "d7ec6f9c-53c4-49f4-cc61-a8796007b9c2"
      },
      "execution_count": null,
      "outputs": [
        {
          "output_type": "stream",
          "name": "stdout",
          "text": [
            "    Type              Description       ICC         F  df1  df2          pval  \\\n",
            "0   ICC1   Single raters absolute  0.286171   8.21612   25  442  4.455987e-24   \n",
            "1   ICC2     Single random raters  0.291525  10.15020   25  425  4.931518e-30   \n",
            "2   ICC3      Single fixed raters  0.337021  10.15020   25  425  4.931518e-30   \n",
            "3  ICC1k  Average raters absolute  0.878288   8.21612   25  442  4.455987e-24   \n",
            "4  ICC2k    Average random raters  0.881047  10.15020   25  425  4.931518e-30   \n",
            "5  ICC3k     Average fixed raters  0.901480  10.15020   25  425  4.931518e-30   \n",
            "\n",
            "          CI95%  \n",
            "0  [0.18, 0.45]  \n",
            "1  [0.18, 0.46]  \n",
            "2  [0.22, 0.51]  \n",
            "3   [0.8, 0.94]  \n",
            "4   [0.8, 0.94]  \n",
            "5  [0.84, 0.95]  \n"
          ]
        }
      ]
    },
    {
      "cell_type": "code",
      "source": [
        "# Step 1: Import the required packages\n",
        "import pandas as pd\n",
        "import pingouin as pg\n",
        "\n",
        "# Step 2: Load the data\n",
        "# Make sure to use the correct path to your Excel file\n",
        "df = pd.read_excel('/content/sample_data/icc_group8.xlsx')\n",
        "\n",
        "# Step 3: Melt the DataFrame\n",
        "df_melt = pd.melt(df, id_vars='Participant', var_name='wordpair', value_name='rating')\n",
        "\n",
        "# Step 4: Drop rows with missing ratings\n",
        "df_melt = df_melt.dropna(subset=['rating'])\n",
        "\n",
        "# Step 5: Count the number of ratings per word pair\n",
        "rating_counts = df_melt['wordpair'].value_counts()\n",
        "\n",
        "# Step 6: Filter out the word pairs that were not rated by all participants\n",
        "fully_rated_wordpairs = rating_counts[rating_counts == rating_counts.max()].index\n",
        "df_melt_fully_rated = df_melt[df_melt['wordpair'].isin(fully_rated_wordpairs)]\n",
        "\n",
        "# Step 7: Compute the ICC\n",
        "icc = pg.intraclass_corr(data=df_melt_fully_rated, targets='wordpair', raters='Participant', ratings='rating')\n",
        "print(icc)\n"
      ],
      "metadata": {
        "colab": {
          "base_uri": "https://localhost:8080/"
        },
        "id": "mUyFepbRV3AZ",
        "outputId": "cb7bf9bf-08c7-4033-d161-079a3a5aaf16"
      },
      "execution_count": null,
      "outputs": [
        {
          "output_type": "stream",
          "name": "stdout",
          "text": [
            "    Type              Description       ICC         F  df1   df2  \\\n",
            "0   ICC1   Single raters absolute  0.263598  6.369303   99  1400   \n",
            "1   ICC2     Single random raters  0.276396  9.956014   99  1386   \n",
            "2   ICC3      Single fixed raters  0.373852  9.956014   99  1386   \n",
            "3  ICC1k  Average raters absolute  0.842997  6.369303   99  1400   \n",
            "4  ICC2k    Average random raters  0.851402  9.956014   99  1386   \n",
            "5  ICC3k     Average fixed raters  0.899558  9.956014   99  1386   \n",
            "\n",
            "            pval         CI95%  \n",
            "0   1.496943e-61   [0.2, 0.34]  \n",
            "1  2.854897e-104   [0.2, 0.37]  \n",
            "2  2.854897e-104  [0.31, 0.46]  \n",
            "3   1.496943e-61  [0.79, 0.88]  \n",
            "4  2.854897e-104   [0.79, 0.9]  \n",
            "5  2.854897e-104  [0.87, 0.93]  \n"
          ]
        }
      ]
    },
    {
      "cell_type": "code",
      "source": [
        "# Step 1: Import the required packages\n",
        "import pandas as pd\n",
        "import pingouin as pg\n",
        "\n",
        "# Step 2: Load the data\n",
        "# Make sure to use the correct path to your Excel file\n",
        "df = pd.read_excel('/content/sample_data/icc_group9.xlsx')\n",
        "\n",
        "# Step 3: Melt the DataFrame\n",
        "df_melt = pd.melt(df, id_vars='Participant', var_name='wordpair', value_name='rating')\n",
        "\n",
        "# Step 4: Drop rows with missing ratings\n",
        "df_melt = df_melt.dropna(subset=['rating'])\n",
        "\n",
        "# Step 5: Count the number of ratings per word pair\n",
        "rating_counts = df_melt['wordpair'].value_counts()\n",
        "\n",
        "# Step 6: Filter out the word pairs that were not rated by all participants\n",
        "fully_rated_wordpairs = rating_counts[rating_counts == rating_counts.max()].index\n",
        "df_melt_fully_rated = df_melt[df_melt['wordpair'].isin(fully_rated_wordpairs)]\n",
        "\n",
        "# Step 7: Compute the ICC\n",
        "icc = pg.intraclass_corr(data=df_melt_fully_rated, targets='wordpair', raters='Participant', ratings='rating')\n",
        "print(icc)\n"
      ],
      "metadata": {
        "id": "o5mqTK6yV4M3",
        "outputId": "67ffbb4c-d2ca-4eec-e339-1c1321e58d5f",
        "colab": {
          "base_uri": "https://localhost:8080/"
        }
      },
      "execution_count": null,
      "outputs": [
        {
          "output_type": "stream",
          "name": "stdout",
          "text": [
            "    Type              Description       ICC          F  df1  df2  \\\n",
            "0   ICC1   Single raters absolute  0.396321  10.847641   50  714   \n",
            "1   ICC2     Single random raters  0.402958  14.987357   50  700   \n",
            "2   ICC3      Single fixed raters  0.482533  14.987357   50  700   \n",
            "3  ICC1k  Average raters absolute  0.907814  10.847641   50  714   \n",
            "4  ICC2k    Average random raters  0.910103  14.987357   50  700   \n",
            "5  ICC3k     Average fixed raters  0.933277  14.987357   50  700   \n",
            "\n",
            "           pval         CI95%  \n",
            "0  3.135962e-59   [0.3, 0.52]  \n",
            "1  1.424139e-80   [0.3, 0.53]  \n",
            "2  1.424139e-80   [0.38, 0.6]  \n",
            "3  3.135962e-59  [0.87, 0.94]  \n",
            "4  1.424139e-80  [0.86, 0.94]  \n",
            "5  1.424139e-80   [0.9, 0.96]  \n"
          ]
        }
      ]
    }
  ]
}